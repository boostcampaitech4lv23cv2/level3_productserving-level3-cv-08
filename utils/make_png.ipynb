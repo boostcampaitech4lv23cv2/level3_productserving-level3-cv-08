{
 "cells": [
  {
   "cell_type": "code",
   "execution_count": null,
   "metadata": {},
   "outputs": [],
   "source": [
    "import os\n",
    "import cv2\n",
    "import numpy as np\n",
    "import json\n",
    "from tqdm import tqdm\n",
    "from skimage.draw import polygon2mask\n",
    "import shutil"
   ]
  },
  {
   "cell_type": "code",
   "execution_count": null,
   "metadata": {},
   "outputs": [],
   "source": [
    "json_dir = './val/label/damage'\n",
    "img_dir = './val/img/damage'\n",
    "file_names = os.listdir(json_dir)\n",
    "output_ann_dir = './val/ann_dir/train/'\n",
    "output_img_dir = './val/img_dir/train/'\n",
    "os.makedirs(output_ann_dir, exist_ok=True)\n",
    "os.makedirs(output_img_dir, exist_ok=True)"
   ]
  },
  {
   "cell_type": "code",
   "execution_count": null,
   "metadata": {},
   "outputs": [],
   "source": [
    "# Whole type\n",
    "damage_type = {'Scratched':1, 'Crushed':2, 'Breakage':3, 'Separated':4} # num : priority\n",
    "\n",
    "for file_name in tqdm(file_names):\n",
    "    with open(os.path.join(json_dir, file_name)) as f:\n",
    "        data = json.load(f)\n",
    "\n",
    "    height, width = data['images']['height'], data['images']['width']\n",
    "    result_array = np.zeros((height, width))\n",
    "    n = len(data['annotations'])\n",
    "    \n",
    "    for i in range(n):\n",
    "        polygons = data['annotations'][i]['segmentation']\n",
    "        type = damage_type[data['annotations'][i]['damage']]\n",
    "        for j in range(len(polygons)):\n",
    "            for k in range(len(polygons[j])):\n",
    "                tmp = np.array(polygons[j][k]).squeeze()\n",
    "                poly = [[p[1], p[0]] for p in tmp]\n",
    "                mask = polygon2mask((height,width), poly) * type\n",
    "                if k == 0:\n",
    "                    result_array = np.maximum(result_array, mask)\n",
    "                else:\n",
    "                    result_array[mask == 1] = 0\n",
    "                \n",
    "                \n",
    "    cv2.imwrite(os.path.join(output_ann_dir, file_name.split('.')[0]+'.png'), result_array.astype(np.uint8))\n",
    "                    \n"
   ]
  },
  {
   "cell_type": "code",
   "execution_count": null,
   "metadata": {},
   "outputs": [],
   "source": [
    "# Select type\n",
    "damage_type = 'Separated'\n",
    "\n",
    "for file_name in tqdm(file_names):\n",
    "    with open(os.path.join(json_dir, file_name)) as f:\n",
    "        data = json.load(f)\n",
    "\n",
    "    height, width = data['images']['height'], data['images']['width']\n",
    "    result_array = np.zeros((height, width))\n",
    "    n = len(data['annotations'])\n",
    "    save_flag = False\n",
    "    for i in range(n):\n",
    "        polygons = data['annotations'][i]['segmentation']\n",
    "        type = data['annotations'][i]['damage']\n",
    "        if type != damage_type:\n",
    "            continue\n",
    "        if not save_flag:\n",
    "            save_flag = True\n",
    "        for j in range(len(polygons)):\n",
    "            for k in range(len(polygons[j])):\n",
    "                tmp = np.array(polygons[j][k]).squeeze()\n",
    "                poly = [[p[1], p[0]] for p in tmp]\n",
    "                mask = polygon2mask((height,width), poly)\n",
    "                if k == 0:\n",
    "                    result_array = np.maximum(result_array, mask)\n",
    "                else:\n",
    "                    result_array[mask == 1] = 0\n",
    "\n",
    "    if save_flag:\n",
    "        name = file_name.split('.')[0]\n",
    "        cv2.imwrite(os.path.join(output_ann_dir, name+'.png'), result_array.astype(np.uint8))\n",
    "        shutil.copy(os.path.join(img_dir, name+'.jpg'), output_img_dir)\n",
    "                    \n"
   ]
  }
 ],
 "metadata": {
  "kernelspec": {
   "display_name": "base",
   "language": "python",
   "name": "python3"
  },
  "language_info": {
   "codemirror_mode": {
    "name": "ipython",
    "version": 3
   },
   "file_extension": ".py",
   "mimetype": "text/x-python",
   "name": "python",
   "nbconvert_exporter": "python",
   "pygments_lexer": "ipython3",
   "version": "3.8.5"
  },
  "orig_nbformat": 4,
  "vscode": {
   "interpreter": {
    "hash": "d4d1e4263499bec80672ea0156c357c1ee493ec2b1c70f0acce89fc37c4a6abe"
   }
  }
 },
 "nbformat": 4,
 "nbformat_minor": 2
}
